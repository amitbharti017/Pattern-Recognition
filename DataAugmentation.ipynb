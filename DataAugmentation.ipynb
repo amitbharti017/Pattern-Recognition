{
 "cells": [
  {
   "cell_type": "code",
   "execution_count": 55,
   "metadata": {},
   "outputs": [],
   "source": [
    "import numpy as np\n",
    "import pandas as pd\n",
    "import matplotlib.pyplot as plt\n",
    "import os\n",
    "import random\n",
    "import tensorflow as tf"
   ]
  },
  {
   "cell_type": "code",
   "execution_count": 56,
   "metadata": {},
   "outputs": [],
   "source": [
    "import splitfolders\n",
    "from keras.preprocessing.image import ImageDataGenerator,array_to_img, img_to_array, load_img"
   ]
  },
  {
   "cell_type": "code",
   "execution_count": 57,
   "metadata": {},
   "outputs": [],
   "source": [
    "data_path = \"BigCats\" \n",
    "test_data_path_to_save = \"spliting_dataset\""
   ]
  },
  {
   "cell_type": "code",
   "execution_count": 58,
   "metadata": {},
   "outputs": [
    {
     "name": "stderr",
     "output_type": "stream",
     "text": [
      "Copying files: 170 files [00:00, 487.04 files/s]\n"
     ]
    }
   ],
   "source": [
    "splitfolders.ratio(data_path, output=test_data_path_to_save, seed=492, ratio=(.8,0.2)) "
   ]
  },
  {
   "cell_type": "code",
   "execution_count": 59,
   "metadata": {},
   "outputs": [],
   "source": [
    "train_dir = \"spliting_dataset/train\"\n",
    "test_dir = \"spliting_dataset/val\""
   ]
  },
  {
   "cell_type": "code",
   "execution_count": 60,
   "metadata": {},
   "outputs": [],
   "source": [
    "datagen = ImageDataGenerator(\n",
    "                width_shift_range=0.05,\n",
    "                height_shift_range=0.05,\n",
    "                shear_range= 3,\n",
    "                zoom_range=0.3,\n",
    "                rotation_range = 30,\n",
    "                fill_mode=\"nearest\")"
   ]
  },
  {
   "cell_type": "code",
   "execution_count": 61,
   "metadata": {},
   "outputs": [],
   "source": [
    "def balancing_classes_image_addition(num_image,path,total_req_images):\n",
    "    for i in range(total_req_images - num_image):\n",
    "        files=os.listdir(path)\n",
    "        d=random.choice(files)\n",
    "        filepath = os.path.join(path, d)\n",
    "        image = tf.keras.utils.load_img(filepath,\n",
    "                        grayscale=False,\n",
    "                        color_mode='rgb',\n",
    "                        target_size=None,\n",
    "                        interpolation='nearest')\n",
    "        input_arr = img_to_array(image)\n",
    "        input_arr.shape\n",
    "        input_arr = input_arr.reshape((1,) + input_arr.shape)\n",
    "        i = 0\n",
    "        for batch in datagen.flow(input_arr, batch_size=1,\n",
    "                          save_to_dir=path, save_prefix='augmented_image', save_format='jpg'):\n",
    "                break  "
   ]
  },
  {
   "cell_type": "code",
   "execution_count": 62,
   "metadata": {},
   "outputs": [],
   "source": [
    "#Balancing the number of images in each class through data augmentation in the training set\n",
    "num_train = 50 #number of images in the training set\n",
    "for dirpath, dirnames, filenames in os.walk(\"spliting_dataset/train/\"):\n",
    "    #print(f\"There are {len(dirnames)} directories and {len(filenames)} images in '{dirpath}'.\")\n",
    "    if len(filenames) == 0:\n",
    "        continue\n",
    "    else:\n",
    "        balancing_classes_image_addition(len(filenames),dirpath,num_train)  "
   ]
  },
  {
   "cell_type": "code",
   "execution_count": null,
   "metadata": {},
   "outputs": [],
   "source": []
  }
 ],
 "metadata": {
  "kernelspec": {
   "display_name": "Python 3 (ipykernel)",
   "language": "python",
   "name": "python3"
  },
  "language_info": {
   "codemirror_mode": {
    "name": "ipython",
    "version": 3
   },
   "file_extension": ".py",
   "mimetype": "text/x-python",
   "name": "python",
   "nbconvert_exporter": "python",
   "pygments_lexer": "ipython3",
   "version": "3.7.11"
  }
 },
 "nbformat": 4,
 "nbformat_minor": 4
}
