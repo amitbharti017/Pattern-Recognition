{
 "cells": [
  {
   "cell_type": "code",
   "execution_count": 8,
   "metadata": {},
   "outputs": [],
   "source": [
    "import numpy as np\n",
    "import pandas as pd\n",
    "import cv2\n",
    "import os \n",
    "import matplotlib.pyplot as plt\n",
    "%matplotlib inline\n",
    "import warnings\n",
    "warnings.filterwarnings('ignore')\n",
    "import random"
   ]
  },
  {
   "cell_type": "code",
   "execution_count": 15,
   "metadata": {},
   "outputs": [],
   "source": [
    "path = \"BigCats\"\n",
    "folder = os.listdir(path)\n",
    "distribution_of_data = {}\n",
    "images = {}\n",
    "for i in range(len(folder)):\n",
    "    image_array=[]\n",
    "    dir = os.path.join(path,folder[i])\n",
    "    for file in os.listdir(dir):\n",
    "        img = cv2.imread(os.path.join(dir,file),0)\n",
    "#0 in the imread read image in greyscale mode\n",
    "        image_array.append(img)  \n",
    "    images[folder[i]] = image_array\n",
    "    distribution_of_data[folder[i]] = len(os.listdir(dir))"
   ]
  },
  {
   "cell_type": "code",
   "execution_count": 16,
   "metadata": {},
   "outputs": [
    {
     "data": {
      "text/plain": [
       "{'Cheetah': 38, 'Jaguar': 30, 'Leopard': 31, 'Lion': 32, 'Tiger': 39}"
      ]
     },
     "execution_count": 16,
     "metadata": {},
     "output_type": "execute_result"
    }
   ],
   "source": [
    "distribution_of_data"
   ]
  },
  {
   "cell_type": "code",
   "execution_count": 17,
   "metadata": {},
   "outputs": [
    {
     "data": {
      "image/png": "[encoded data removed]",
      "text/plain": [
       "<Figure size 432x288 with 1 Axes>"
      ]
     },
     "metadata": {
      "needs_background": "light"
     },
     "output_type": "display_data"
    }
   ],
   "source": [
    "names = list(distribution_of_data.keys())\n",
    "values = list(distribution_of_data.values())\n",
    "plt.bar(range(len(distribution_of_data)), values, tick_label=names, color = [\"blue\",\"orange\",\"red\",\"green\",\"grey\"])\n",
    "plt.ylabel('Number of Sample')\n",
    "plt.suptitle('Image Classification of BigCats')\n",
    "plt.xlabel('Bigcats');\n",
    "plt.rc('axes', labelsize=15)\n",
    "plt.rc('figure', titlesize=20)\n",
    "plt.show()"
   ]
  },
  {
   "cell_type": "markdown",
   "metadata": {},
   "source": [
    "## Applying SIFT"
   ]
  },
  {
   "cell_type": "code",
   "execution_count": 32,
   "metadata": {},
   "outputs": [
    {
     "data": {
      "text/plain": [
       "True"
      ]
     },
     "execution_count": 32,
     "metadata": {},
     "output_type": "execute_result"
    }
   ],
   "source": [
    "# Loading the image\n",
    "img = cv2.imread(\"BigCats/Cheetah/animal-africa-wilderness-zoo.jpg\",0)\n",
    "# Applying SIFT detector\n",
    "sift = cv2.SIFT_create()\n",
    "kp,des = sift.detectAndCompute(img,None) \n",
    "# Marking the keypoint on the image using circles\n",
    "img=cv2.drawKeypoints(img ,\n",
    "                      kp ,\n",
    "                      img ,\n",
    "                      flags=cv2.DRAW_MATCHES_FLAGS_DRAW_RICH_KEYPOINTS)\n",
    " \n",
    "cv2.imwrite('image-with-keypoints.jpg', img)"
   ]
  },
  {
   "cell_type": "code",
   "execution_count": 40,
   "metadata": {},
   "outputs": [
    {
     "data": {
      "text/plain": [
       "True"
      ]
     },
     "execution_count": 40,
     "metadata": {},
     "output_type": "execute_result"
    }
   ],
   "source": [
    "# Loading the image\n",
    "img2 = cv2.imread(\"spliting_dataset/train/Cheetah/augmented_image_0_509.jpg\",0)\n",
    "# Applying SIFT detector\n",
    "sift = cv2.SIFT_create()\n",
    "kp,des = sift.detectAndCompute(img,None) \n",
    "# Marking the keypoint on the image using circles\n",
    "img2=cv2.drawKeypoints(img2 ,\n",
    "                      kp ,\n",
    "                      img ,\n",
    "                      flags=cv2.DRAW_MATCHES_FLAGS_DRAW_RICH_KEYPOINTS)\n",
    " \n",
    "cv2.imwrite('augmented-with-keypoints.jpg', img2)"
   ]
  },
  {
   "cell_type": "code",
   "execution_count": null,
   "metadata": {},
   "outputs": [],
   "source": []
  }
 ],
 "metadata": {
  "kernelspec": {
   "display_name": "Python 3 (ipykernel)",
   "language": "python",
   "name": "python3"
  },
  "language_info": {
   "codemirror_mode": {
    "name": "ipython",
    "version": 3
   },
   "file_extension": ".py",
   "mimetype": "text/x-python",
   "name": "python",
   "nbconvert_exporter": "python",
   "pygments_lexer": "ipython3",
   "version": "3.7.11"
  }
 },
 "nbformat": 4,
 "nbformat_minor": 4
}
